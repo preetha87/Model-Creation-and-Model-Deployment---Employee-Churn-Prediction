{
 "cells": [
  {
   "cell_type": "code",
   "execution_count": 1,
   "metadata": {},
   "outputs": [],
   "source": [
    "import numpy as np\n",
    "import pandas as pd\n",
    "import re\n",
    "import seaborn as sns\n",
    "import matplotlib.pyplot as plt\n",
    "from sklearn.preprocessing import StandardScaler\n",
    "from sklearn.model_selection import train_test_split\n",
    "from sklearn.model_selection import GridSearchCV\n",
    "from sklearn import metrics\n",
    "from imblearn.over_sampling import SMOTE  # imblearn library can be installed using pip install imblearn\n",
    "from sklearn.ensemble import RandomForestClassifier, AdaBoostClassifier, GradientBoostingClassifier\n",
    "import xgboost as xgb\n",
    "from xgboost.sklearn import XGBClassifier\n",
    "from sklearn.svm import SVC\n",
    "from sklearn.linear_model import LogisticRegression\n",
    "from sklearn.neighbors import KNeighborsClassifier\n",
    "from sklearn.naive_bayes import GaussianNB\n",
    "from sklearn.preprocessing import StandardScaler\n",
    "from sklearn.metrics import classification_report, confusion_matrix\n",
    "import plotly.graph_objs as go\n",
    "import plotly .offline as offline\n",
    "import plotly.figure_factory as ff"
   ]
  },
  {
   "cell_type": "code",
   "execution_count": 2,
   "metadata": {},
   "outputs": [
    {
     "name": "stdout",
     "output_type": "stream",
     "text": [
      "   Age PastEmployee BusinessTravel       Department  DistanceFromHome  \\\n",
      "0   46           No  Travel_Rarely  Human Resources                 5   \n",
      "1   37          Yes  Travel_Rarely  Human Resources                 6   \n",
      "2   59           No     Non-Travel  Human Resources                 2   \n",
      "3   54           No     Non-Travel  Human Resources                26   \n",
      "4   26           No  Travel_Rarely  Human Resources                25   \n",
      "\n",
      "   Education   EducationField  EnvironmentSatisfaction  Gender  \\\n",
      "0          2          Medical                        2    Male   \n",
      "1          4  Human Resources                        3    Male   \n",
      "2          4  Human Resources                        3  Female   \n",
      "3          3  Human Resources                        4  Female   \n",
      "4          1    Life Sciences                        3  Female   \n",
      "\n",
      "   JobInvolvement  JobLevel          JobRole  JobSatisfaction MaritalStatus  \\\n",
      "0               3         2  Human Resources                2      Divorced   \n",
      "1               3         1  Human Resources                1      Divorced   \n",
      "2               2         5          Manager                4       Married   \n",
      "3               4         4          Manager                4        Single   \n",
      "4               3         1  Human Resources                3       Married   \n",
      "\n",
      "   MonthlyIncome  NumCompaniesWorked OverTime  PercentSalaryHike  \\\n",
      "0           5021                   8      Yes                 22   \n",
      "1           2073                   4      Yes                 22   \n",
      "2          18844                   9       No                 21   \n",
      "3          17328                   2      Yes                 12   \n",
      "4           2942                   1       No                 23   \n",
      "\n",
      "   PerformanceRating  StockOptionLevel  TotalWorkingYears  \\\n",
      "0                  4                 1                 16   \n",
      "1                  4                 0                  7   \n",
      "2                  4                 1                 30   \n",
      "3                  3                 0                 23   \n",
      "4                  4                 1                  8   \n",
      "\n",
      "   TrainingTimesLastYear  WorkLifeBalance  YearsAtCompany  YearsInCurrentRole  \\\n",
      "0                      2                3               4                   2   \n",
      "1                      3                3               3                   2   \n",
      "2                      3                3               3                   2   \n",
      "3                      3                3               5                   3   \n",
      "4                      3                3               8                   7   \n",
      "\n",
      "   YearsSinceLastPromotion  YearsWithCurrManager  \n",
      "0                        0                     2  \n",
      "1                        0                     2  \n",
      "2                        2                     2  \n",
      "3                        4                     4  \n",
      "4                        5                     7  \n",
      "(1470, 27)\n",
      "<class 'pandas.core.frame.DataFrame'>\n",
      "RangeIndex: 1470 entries, 0 to 1469\n",
      "Data columns (total 27 columns):\n",
      " #   Column                   Non-Null Count  Dtype \n",
      "---  ------                   --------------  ----- \n",
      " 0   Age                      1470 non-null   int64 \n",
      " 1   PastEmployee             1470 non-null   object\n",
      " 2   BusinessTravel           1470 non-null   object\n",
      " 3   Department               1470 non-null   object\n",
      " 4   DistanceFromHome         1470 non-null   int64 \n",
      " 5   Education                1470 non-null   int64 \n",
      " 6   EducationField           1470 non-null   object\n",
      " 7   EnvironmentSatisfaction  1470 non-null   int64 \n",
      " 8   Gender                   1470 non-null   object\n",
      " 9   JobInvolvement           1470 non-null   int64 \n",
      " 10  JobLevel                 1470 non-null   int64 \n",
      " 11  JobRole                  1470 non-null   object\n",
      " 12  JobSatisfaction          1470 non-null   int64 \n",
      " 13  MaritalStatus            1470 non-null   object\n",
      " 14  MonthlyIncome            1470 non-null   int64 \n",
      " 15  NumCompaniesWorked       1470 non-null   int64 \n",
      " 16  OverTime                 1470 non-null   object\n",
      " 17  PercentSalaryHike        1470 non-null   int64 \n",
      " 18  PerformanceRating        1470 non-null   int64 \n",
      " 19  StockOptionLevel         1470 non-null   int64 \n",
      " 20  TotalWorkingYears        1470 non-null   int64 \n",
      " 21  TrainingTimesLastYear    1470 non-null   int64 \n",
      " 22  WorkLifeBalance          1470 non-null   int64 \n",
      " 23  YearsAtCompany           1470 non-null   int64 \n",
      " 24  YearsInCurrentRole       1470 non-null   int64 \n",
      " 25  YearsSinceLastPromotion  1470 non-null   int64 \n",
      " 26  YearsWithCurrManager     1470 non-null   int64 \n",
      "dtypes: int64(19), object(8)\n",
      "memory usage: 310.2+ KB\n",
      "None\n",
      "               Age  DistanceFromHome    Education  EnvironmentSatisfaction  \\\n",
      "count  1470.000000       1470.000000  1470.000000              1470.000000   \n",
      "mean     36.923810          9.192517     2.912925                 2.721769   \n",
      "std       9.135373          8.106864     1.024165                 1.093082   \n",
      "min      18.000000          1.000000     1.000000                 1.000000   \n",
      "25%      30.000000          2.000000     2.000000                 2.000000   \n",
      "50%      36.000000          7.000000     3.000000                 3.000000   \n",
      "75%      43.000000         14.000000     4.000000                 4.000000   \n",
      "max      60.000000         29.000000     5.000000                 4.000000   \n",
      "\n",
      "       JobInvolvement     JobLevel  JobSatisfaction  MonthlyIncome  \\\n",
      "count     1470.000000  1470.000000      1470.000000    1470.000000   \n",
      "mean         2.729932     2.063946         2.728571    6502.931293   \n",
      "std          0.711561     1.106940         1.102846    4707.956783   \n",
      "min          1.000000     1.000000         1.000000    1009.000000   \n",
      "25%          2.000000     1.000000         2.000000    2911.000000   \n",
      "50%          3.000000     2.000000         3.000000    4919.000000   \n",
      "75%          3.000000     3.000000         4.000000    8379.000000   \n",
      "max          4.000000     5.000000         4.000000   19999.000000   \n",
      "\n",
      "       NumCompaniesWorked  PercentSalaryHike  PerformanceRating  \\\n",
      "count         1470.000000        1470.000000        1470.000000   \n",
      "mean             2.693197          15.209524           3.153741   \n",
      "std              2.498009           3.659938           0.360824   \n",
      "min              0.000000          11.000000           3.000000   \n",
      "25%              1.000000          12.000000           3.000000   \n",
      "50%              2.000000          14.000000           3.000000   \n",
      "75%              4.000000          18.000000           3.000000   \n",
      "max              9.000000          25.000000           4.000000   \n",
      "\n",
      "       StockOptionLevel  TotalWorkingYears  TrainingTimesLastYear  \\\n",
      "count       1470.000000        1470.000000            1470.000000   \n",
      "mean           0.793878          11.279592               2.799320   \n",
      "std            0.852077           7.780782               1.289271   \n",
      "min            0.000000           0.000000               0.000000   \n",
      "25%            0.000000           6.000000               2.000000   \n",
      "50%            1.000000          10.000000               3.000000   \n",
      "75%            1.000000          15.000000               3.000000   \n",
      "max            3.000000          40.000000               6.000000   \n",
      "\n",
      "       WorkLifeBalance  YearsAtCompany  YearsInCurrentRole  \\\n",
      "count      1470.000000     1470.000000         1470.000000   \n",
      "mean          2.761224        7.008163            4.229252   \n",
      "std           0.706476        6.126525            3.623137   \n",
      "min           1.000000        0.000000            0.000000   \n",
      "25%           2.000000        3.000000            2.000000   \n",
      "50%           3.000000        5.000000            3.000000   \n",
      "75%           3.000000        9.000000            7.000000   \n",
      "max           4.000000       40.000000           18.000000   \n",
      "\n",
      "       YearsSinceLastPromotion  YearsWithCurrManager  \n",
      "count              1470.000000           1470.000000  \n",
      "mean                  2.187755              4.123129  \n",
      "std                   3.222430              3.568136  \n",
      "min                   0.000000              0.000000  \n",
      "25%                   0.000000              2.000000  \n",
      "50%                   1.000000              3.000000  \n",
      "75%                   3.000000              7.000000  \n",
      "max                  15.000000             17.000000  \n"
     ]
    }
   ],
   "source": [
    "# Importing dataset and examining it\n",
    "dataset = pd.read_csv(\"EmployeeChurnPrediction.csv\")\n",
    "pd.set_option('display.max_columns', None) # Will ensure that all columns are displayed\n",
    "print(dataset.head())\n",
    "print(dataset.shape)\n",
    "print(dataset.info())\n",
    "print(dataset.describe())"
   ]
  },
  {
   "cell_type": "code",
   "execution_count": 3,
   "metadata": {},
   "outputs": [],
   "source": [
    "# Converting Categorical features into Numerical features\n",
    "def converter(column):\n",
    "    if column == 'Yes':\n",
    "        return 1\n",
    "    else:\n",
    "        return 0\n",
    "\n",
    "dataset['PastEmployee'] = dataset['PastEmployee'].apply(converter)\n",
    "dataset['OverTime'] = dataset['OverTime'].apply(converter)"
   ]
  },
  {
   "cell_type": "code",
   "execution_count": 4,
   "metadata": {},
   "outputs": [
    {
     "name": "stdout",
     "output_type": "stream",
     "text": [
      "<class 'pandas.core.frame.DataFrame'>\n",
      "RangeIndex: 1470 entries, 0 to 1469\n",
      "Data columns (total 47 columns):\n",
      " #   Column                             Non-Null Count  Dtype\n",
      "---  ------                             --------------  -----\n",
      " 0   Age                                1470 non-null   int64\n",
      " 1   PastEmployee                       1470 non-null   int64\n",
      " 2   DistanceFromHome                   1470 non-null   int64\n",
      " 3   Education                          1470 non-null   int64\n",
      " 4   EnvironmentSatisfaction            1470 non-null   int64\n",
      " 5   JobInvolvement                     1470 non-null   int64\n",
      " 6   JobLevel                           1470 non-null   int64\n",
      " 7   JobSatisfaction                    1470 non-null   int64\n",
      " 8   MonthlyIncome                      1470 non-null   int64\n",
      " 9   NumCompaniesWorked                 1470 non-null   int64\n",
      " 10  OverTime                           1470 non-null   int64\n",
      " 11  PercentSalaryHike                  1470 non-null   int64\n",
      " 12  PerformanceRating                  1470 non-null   int64\n",
      " 13  StockOptionLevel                   1470 non-null   int64\n",
      " 14  TotalWorkingYears                  1470 non-null   int64\n",
      " 15  TrainingTimesLastYear              1470 non-null   int64\n",
      " 16  WorkLifeBalance                    1470 non-null   int64\n",
      " 17  YearsAtCompany                     1470 non-null   int64\n",
      " 18  YearsInCurrentRole                 1470 non-null   int64\n",
      " 19  YearsSinceLastPromotion            1470 non-null   int64\n",
      " 20  YearsWithCurrManager               1470 non-null   int64\n",
      " 21  BusinessTravel_Non-Travel          1470 non-null   uint8\n",
      " 22  BusinessTravel_Travel_Frequently   1470 non-null   uint8\n",
      " 23  BusinessTravel_Travel_Rarely       1470 non-null   uint8\n",
      " 24  Department_Human Resources         1470 non-null   uint8\n",
      " 25  Department_Research & Development  1470 non-null   uint8\n",
      " 26  Department_Sales                   1470 non-null   uint8\n",
      " 27  EducationField_Human Resources     1470 non-null   uint8\n",
      " 28  EducationField_Life Sciences       1470 non-null   uint8\n",
      " 29  EducationField_Marketing           1470 non-null   uint8\n",
      " 30  EducationField_Medical             1470 non-null   uint8\n",
      " 31  EducationField_Other               1470 non-null   uint8\n",
      " 32  EducationField_Technical Degree    1470 non-null   uint8\n",
      " 33  Gender_Female                      1470 non-null   uint8\n",
      " 34  Gender_Male                        1470 non-null   uint8\n",
      " 35  JobRole_Healthcare Representative  1470 non-null   uint8\n",
      " 36  JobRole_Human Resources            1470 non-null   uint8\n",
      " 37  JobRole_Laboratory Technician      1470 non-null   uint8\n",
      " 38  JobRole_Manager                    1470 non-null   uint8\n",
      " 39  JobRole_Manufacturing Director     1470 non-null   uint8\n",
      " 40  JobRole_Research Director          1470 non-null   uint8\n",
      " 41  JobRole_Research Scientist         1470 non-null   uint8\n",
      " 42  JobRole_Sales Executive            1470 non-null   uint8\n",
      " 43  JobRole_Sales Representative       1470 non-null   uint8\n",
      " 44  MaritalStatus_Divorced             1470 non-null   uint8\n",
      " 45  MaritalStatus_Married              1470 non-null   uint8\n",
      " 46  MaritalStatus_Single               1470 non-null   uint8\n",
      "dtypes: int64(21), uint8(26)\n",
      "memory usage: 278.6 KB\n",
      "None\n",
      "   Age  PastEmployee  DistanceFromHome  Education  EnvironmentSatisfaction  \\\n",
      "0   46             0                 5          2                        2   \n",
      "1   37             1                 6          4                        3   \n",
      "\n",
      "   JobInvolvement  JobLevel  JobSatisfaction  MonthlyIncome  \\\n",
      "0               3         2                2           5021   \n",
      "1               3         1                1           2073   \n",
      "\n",
      "   NumCompaniesWorked  OverTime  PercentSalaryHike  PerformanceRating  \\\n",
      "0                   8         1                 22                  4   \n",
      "1                   4         1                 22                  4   \n",
      "\n",
      "   StockOptionLevel  TotalWorkingYears  TrainingTimesLastYear  \\\n",
      "0                 1                 16                      2   \n",
      "1                 0                  7                      3   \n",
      "\n",
      "   WorkLifeBalance  YearsAtCompany  YearsInCurrentRole  \\\n",
      "0                3               4                   2   \n",
      "1                3               3                   2   \n",
      "\n",
      "   YearsSinceLastPromotion  YearsWithCurrManager  BusinessTravel_Non-Travel  \\\n",
      "0                        0                     2                          0   \n",
      "1                        0                     2                          0   \n",
      "\n",
      "   BusinessTravel_Travel_Frequently  BusinessTravel_Travel_Rarely  \\\n",
      "0                                 0                             1   \n",
      "1                                 0                             1   \n",
      "\n",
      "   Department_Human Resources  Department_Research & Development  \\\n",
      "0                           1                                  0   \n",
      "1                           1                                  0   \n",
      "\n",
      "   Department_Sales  EducationField_Human Resources  \\\n",
      "0                 0                               0   \n",
      "1                 0                               1   \n",
      "\n",
      "   EducationField_Life Sciences  EducationField_Marketing  \\\n",
      "0                             0                         0   \n",
      "1                             0                         0   \n",
      "\n",
      "   EducationField_Medical  EducationField_Other  \\\n",
      "0                       1                     0   \n",
      "1                       0                     0   \n",
      "\n",
      "   EducationField_Technical Degree  Gender_Female  Gender_Male  \\\n",
      "0                                0              0            1   \n",
      "1                                0              0            1   \n",
      "\n",
      "   JobRole_Healthcare Representative  JobRole_Human Resources  \\\n",
      "0                                  0                        1   \n",
      "1                                  0                        1   \n",
      "\n",
      "   JobRole_Laboratory Technician  JobRole_Manager  \\\n",
      "0                              0                0   \n",
      "1                              0                0   \n",
      "\n",
      "   JobRole_Manufacturing Director  JobRole_Research Director  \\\n",
      "0                               0                          0   \n",
      "1                               0                          0   \n",
      "\n",
      "   JobRole_Research Scientist  JobRole_Sales Executive  \\\n",
      "0                           0                        0   \n",
      "1                           0                        0   \n",
      "\n",
      "   JobRole_Sales Representative  MaritalStatus_Divorced  \\\n",
      "0                             0                       1   \n",
      "1                             0                       1   \n",
      "\n",
      "   MaritalStatus_Married  MaritalStatus_Single  \n",
      "0                      0                     0  \n",
      "1                      0                     0  \n"
     ]
    }
   ],
   "source": [
    "categorical_features = ['BusinessTravel', 'Department', 'EducationField', 'Gender', 'JobRole', 'MaritalStatus']\n",
    "final_data = pd.get_dummies(dataset, columns = categorical_features)\n",
    "print(final_data.info())\n",
    "print(final_data.head(2))"
   ]
  },
  {
   "cell_type": "code",
   "execution_count": 5,
   "metadata": {},
   "outputs": [
    {
     "name": "stdout",
     "output_type": "stream",
     "text": [
      "<class 'pandas.core.frame.DataFrame'>\n",
      "<class 'pandas.core.series.Series'>\n",
      "(1470, 46)\n",
      "(1470,)\n"
     ]
    }
   ],
   "source": [
    "# Dividing dataset into label and feature sets\n",
    "X = final_data.drop('PastEmployee', axis = 1) # Features\n",
    "Y = final_data['PastEmployee'] # Labels\n",
    "print(type(X))\n",
    "print(type(Y))\n",
    "print(X.shape)\n",
    "print(Y.shape)"
   ]
  },
  {
   "cell_type": "code",
   "execution_count": 6,
   "metadata": {},
   "outputs": [],
   "source": [
    "# Normalizing numerical features so that each feature has mean 0 and variance 1\n",
    "feature_scaler = StandardScaler()\n",
    "X_scaled = feature_scaler.fit_transform(X)"
   ]
  },
  {
   "cell_type": "code",
   "execution_count": 7,
   "metadata": {},
   "outputs": [
    {
     "name": "stdout",
     "output_type": "stream",
     "text": [
      "(1029, 46)\n",
      "(441, 46)\n"
     ]
    }
   ],
   "source": [
    "# Dividing dataset into training and test sets\n",
    "X_train, X_test, Y_train, Y_test = train_test_split(X_scaled, Y, test_size = 0.3, random_state = 100)\n",
    "\n",
    "print(X_train.shape)\n",
    "print(X_test.shape)"
   ]
  },
  {
   "cell_type": "code",
   "execution_count": 8,
   "metadata": {},
   "outputs": [
    {
     "name": "stdout",
     "output_type": "stream",
     "text": [
      "Number of observations in each class before oversampling (training data): \n",
      " 0    859\n",
      "1    170\n",
      "Name: PastEmployee, dtype: int64\n",
      "Number of observations in each class after oversampling (training data): \n",
      " 1    859\n",
      "0    859\n",
      "Name: PastEmployee, dtype: int64\n"
     ]
    }
   ],
   "source": [
    "# Implementing Oversampling to balance the dataset; SMOTE stands for Synthetic Minority Oversampling TEchnique\n",
    "print(\"Number of observations in each class before oversampling (training data): \\n\", pd.Series(Y_train).value_counts())\n",
    "\n",
    "smote = SMOTE(random_state = 101)\n",
    "X_train,Y_train = smote.fit_sample(X_train,Y_train)\n",
    "\n",
    "print(\"Number of observations in each class after oversampling (training data): \\n\", pd.Series(Y_train).value_counts())"
   ]
  },
  {
   "cell_type": "markdown",
   "metadata": {},
   "source": [
    "# As per the assignment requirement, tree-based ensemble methods ranging from Random Forest, AdaBoost, Gradient Boosting to XGBoost were the classification algorithms considered to predict employee churn"
   ]
  },
  {
   "cell_type": "markdown",
   "metadata": {},
   "source": [
    "# Also note that as per the assignment requirement, the hyperparameter tuning process was done using GridSearchCV and not RandomizedSearchCV"
   ]
  },
  {
   "cell_type": "markdown",
   "metadata": {},
   "source": [
    "# Random Forest"
   ]
  },
  {
   "cell_type": "code",
   "execution_count": 9,
   "metadata": {},
   "outputs": [
    {
     "name": "stdout",
     "output_type": "stream",
     "text": [
      "Fitting 10 folds for each of 20 candidates, totalling 200 fits\n"
     ]
    },
    {
     "name": "stderr",
     "output_type": "stream",
     "text": [
      "[Parallel(n_jobs=10)]: Using backend LokyBackend with 10 concurrent workers.\n",
      "[Parallel(n_jobs=10)]: Done  30 tasks      | elapsed:   29.1s\n",
      "[Parallel(n_jobs=10)]: Done 180 tasks      | elapsed:  2.8min\n",
      "[Parallel(n_jobs=10)]: Done 200 out of 200 | elapsed:  3.4min finished\n"
     ]
    },
    {
     "name": "stdout",
     "output_type": "stream",
     "text": [
      "{'criterion': 'entropy', 'n_estimators': 50}\n",
      "0.9139398084815322\n"
     ]
    }
   ],
   "source": [
    "# Tuning the random forest parameter 'n_estimators' and implementing cross-validation using Grid Search\n",
    "#Model must correctly predict customer churn\n",
    "#TP – correctly predicting employee churn\n",
    "#TN - correctly predicting employee non-churn\n",
    "#FP – predicting that an employee churned when the employee did not churn\n",
    "#FN - predicting that an employee did not churn when the employee did churn\n",
    "#FN is dangerous - need to minimize the number of FNs\n",
    "\n",
    "rfc = RandomForestClassifier(max_features='auto', random_state=1)\n",
    "grid_param = {'n_estimators': [50,100,150,200,250,300,350,400,450,500], 'criterion':['gini', 'entropy']}\n",
    "\n",
    "gd_sr = GridSearchCV(estimator=rfc, param_grid=grid_param, scoring='recall', n_jobs=10, cv=10, verbose=True)\n",
    "\n",
    "# \"\"\"\n",
    "# In the above GridSearchCV(), scoring parameter should be set as follows:\n",
    "# scoring = 'accuracy' when you want to maximize prediction accuracy\n",
    "# scoring = 'recall' when you want to minimize false negatives\n",
    "# scoring = 'precision' when you want to minimize false positives\n",
    "# scoring = 'f1' when you want to balance false positives and false negatives (place equal emphasis on minimizing both)\n",
    "# \"\"\"\n",
    "#\n",
    "gd_sr.fit(X_train, Y_train)\n",
    "best_parameters = gd_sr.best_params_\n",
    "print(best_parameters)\n",
    "\n",
    "best_result = gd_sr.best_score_ # Mean cross-validated score of the best_estimator\n",
    "print(best_result)"
   ]
  },
  {
   "cell_type": "markdown",
   "metadata": {},
   "source": [
    "# AdaBoost"
   ]
  },
  {
   "cell_type": "code",
   "execution_count": 10,
   "metadata": {},
   "outputs": [
    {
     "name": "stdout",
     "output_type": "stream",
     "text": [
      "Fitting 10 folds for each of 11 candidates, totalling 110 fits\n"
     ]
    },
    {
     "name": "stderr",
     "output_type": "stream",
     "text": [
      "[Parallel(n_jobs=10)]: Using backend LokyBackend with 10 concurrent workers.\n",
      "[Parallel(n_jobs=10)]: Done  30 tasks      | elapsed:    2.1s\n",
      "[Parallel(n_jobs=10)]: Done 110 out of 110 | elapsed:   24.3s finished\n"
     ]
    },
    {
     "name": "stdout",
     "output_type": "stream",
     "text": [
      "{'n_estimators': 70}\n",
      "0.8883720930232558\n"
     ]
    }
   ],
   "source": [
    "# Tuning the AdaBoost parameter 'n_estimators' and implementing cross-validation using Grid Search\n",
    "abc = AdaBoostClassifier(random_state=1)\n",
    "grid_param = {'n_estimators': [5,10,20,30,40,50,60,70,80,90,100]}\n",
    "\n",
    "gd_sr = GridSearchCV(estimator=abc, param_grid=grid_param, scoring='recall', n_jobs=10, cv=10, verbose=True)\n",
    "\n",
    "\"\"\"\n",
    "In the above GridSearchCV(), scoring parameter should be set as follows:\n",
    "scoring = 'accuracy' when you want to maximize prediction accuracy\n",
    "scoring = 'recall' when you want to minimize false negatives\n",
    "scoring = 'precision' when you want to minimize false positives\n",
    "scoring = 'f1' when you want to balance false positives and false negatives (place equal emphasis on minimizing both)\n",
    "\"\"\"\n",
    "\n",
    "gd_sr.fit(X_train, Y_train)\n",
    "\n",
    "best_parameters = gd_sr.best_params_\n",
    "print(best_parameters)\n",
    "\n",
    "best_result = gd_sr.best_score_ # Mean cross-validated score of the best_estimator\n",
    "print(best_result)"
   ]
  },
  {
   "cell_type": "markdown",
   "metadata": {},
   "source": [
    "# Gradient Boosting"
   ]
  },
  {
   "cell_type": "code",
   "execution_count": 11,
   "metadata": {},
   "outputs": [
    {
     "name": "stdout",
     "output_type": "stream",
     "text": [
      "Fitting 10 folds for each of 2940 candidates, totalling 29400 fits\n"
     ]
    },
    {
     "name": "stderr",
     "output_type": "stream",
     "text": [
      "[Parallel(n_jobs=10)]: Using backend LokyBackend with 10 concurrent workers.\n",
      "[Parallel(n_jobs=10)]: Done  30 tasks      | elapsed:    5.1s\n",
      "[Parallel(n_jobs=10)]: Done 180 tasks      | elapsed:   42.7s\n",
      "[Parallel(n_jobs=10)]: Done 430 tasks      | elapsed:  1.8min\n",
      "[Parallel(n_jobs=10)]: Done 780 tasks      | elapsed:  3.3min\n",
      "[Parallel(n_jobs=10)]: Done 1230 tasks      | elapsed:  5.4min\n",
      "[Parallel(n_jobs=10)]: Done 1780 tasks      | elapsed:  8.1min\n",
      "[Parallel(n_jobs=10)]: Done 2430 tasks      | elapsed: 11.0min\n",
      "[Parallel(n_jobs=10)]: Done 3180 tasks      | elapsed: 14.4min\n",
      "[Parallel(n_jobs=10)]: Done 4030 tasks      | elapsed: 18.2min\n",
      "[Parallel(n_jobs=10)]: Done 4980 tasks      | elapsed: 22.8min\n",
      "[Parallel(n_jobs=10)]: Done 6030 tasks      | elapsed: 28.3min\n",
      "[Parallel(n_jobs=10)]: Done 7180 tasks      | elapsed: 33.7min\n",
      "[Parallel(n_jobs=10)]: Done 8430 tasks      | elapsed: 39.9min\n",
      "[Parallel(n_jobs=10)]: Done 9780 tasks      | elapsed: 46.6min\n",
      "[Parallel(n_jobs=10)]: Done 11230 tasks      | elapsed: 53.2min\n",
      "[Parallel(n_jobs=10)]: Done 12780 tasks      | elapsed: 60.2min\n",
      "[Parallel(n_jobs=10)]: Done 14430 tasks      | elapsed: 68.0min\n",
      "[Parallel(n_jobs=10)]: Done 16180 tasks      | elapsed: 75.1min\n",
      "[Parallel(n_jobs=10)]: Done 18030 tasks      | elapsed: 82.8min\n",
      "[Parallel(n_jobs=10)]: Done 19980 tasks      | elapsed: 91.6min\n",
      "[Parallel(n_jobs=10)]: Done 22030 tasks      | elapsed: 101.3min\n",
      "[Parallel(n_jobs=10)]: Done 24180 tasks      | elapsed: 111.0min\n",
      "[Parallel(n_jobs=10)]: Done 26430 tasks      | elapsed: 121.3min\n",
      "[Parallel(n_jobs=10)]: Done 28780 tasks      | elapsed: 132.4min\n",
      "[Parallel(n_jobs=10)]: Done 29400 out of 29400 | elapsed: 135.9min finished\n"
     ]
    },
    {
     "name": "stdout",
     "output_type": "stream",
     "text": [
      "{'learning_rate': 0.5, 'max_depth': 6, 'max_leaf_nodes': 32, 'n_estimators': 10}\n",
      "0.9023119015047879\n"
     ]
    }
   ],
   "source": [
    "#Tuning the Gradient Boost parameter 'n_estimators' and implementing cross-validation using Grid Search\n",
    "gbc = GradientBoostingClassifier(random_state=1)\n",
    "grid_param = {'n_estimators': [10,20,30,40,50], 'max_depth' : [5,6,7,8,9,10,11,12,13,14,15,16], \n",
    "              'max_leaf_nodes': [8,12,16,20,24,28,32], 'learning_rate':[0.5, 0.4, 0.3, 0.2, 0.1, 0.001, 0.005]}\n",
    "\n",
    "gd_sr = GridSearchCV(estimator=gbc, param_grid=grid_param, scoring='recall', n_jobs = 10, cv=10, verbose=True)\n",
    "#\n",
    "# \"\"\"\n",
    "# In the above GridSearchCV(), scoring parameter should be set as follows:\n",
    "# scoring = 'accuracy' when you want to maximize prediction accuracy\n",
    "# scoring = 'recall' when you want to minimize false negatives\n",
    "# scoring = 'precision' when you want to minimize false positives\n",
    "# scoring = 'f1' when you want to balance false positives and false negatives (place equal emphasis on minimizing both)\n",
    "# \"\"\"\n",
    "#\n",
    "gd_sr.fit(X_train, Y_train)\n",
    "\n",
    "best_parameters = gd_sr.best_params_\n",
    "print(best_parameters)\n",
    "#\n",
    "best_result = gd_sr.best_score_ # Mean cross-validated score of the best_estimator\n",
    "print(best_result)"
   ]
  },
  {
   "cell_type": "markdown",
   "metadata": {},
   "source": [
    "# XGBoost"
   ]
  },
  {
   "cell_type": "code",
   "execution_count": 12,
   "metadata": {},
   "outputs": [
    {
     "name": "stdout",
     "output_type": "stream",
     "text": [
      "Fitting 10 folds for each of 15120 candidates, totalling 151200 fits\n"
     ]
    },
    {
     "name": "stderr",
     "output_type": "stream",
     "text": [
      "[Parallel(n_jobs=10)]: Using backend LokyBackend with 10 concurrent workers.\n",
      "[Parallel(n_jobs=10)]: Done  30 tasks      | elapsed:    3.0s\n",
      "[Parallel(n_jobs=10)]: Done 180 tasks      | elapsed:   15.2s\n",
      "[Parallel(n_jobs=10)]: Done 430 tasks      | elapsed:   42.4s\n",
      "[Parallel(n_jobs=10)]: Done 780 tasks      | elapsed:  1.4min\n",
      "[Parallel(n_jobs=10)]: Done 1230 tasks      | elapsed:  2.5min\n",
      "[Parallel(n_jobs=10)]: Done 1780 tasks      | elapsed:  3.9min\n",
      "[Parallel(n_jobs=10)]: Done 2430 tasks      | elapsed:  5.7min\n",
      "[Parallel(n_jobs=10)]: Done 3180 tasks      | elapsed:  7.7min\n",
      "[Parallel(n_jobs=10)]: Done 4030 tasks      | elapsed:  9.7min\n",
      "[Parallel(n_jobs=10)]: Done 4980 tasks      | elapsed: 11.6min\n",
      "[Parallel(n_jobs=10)]: Done 6030 tasks      | elapsed: 14.2min\n",
      "[Parallel(n_jobs=10)]: Done 7180 tasks      | elapsed: 17.6min\n",
      "[Parallel(n_jobs=10)]: Done 8430 tasks      | elapsed: 20.1min\n",
      "[Parallel(n_jobs=10)]: Done 9780 tasks      | elapsed: 23.8min\n",
      "[Parallel(n_jobs=10)]: Done 11230 tasks      | elapsed: 27.6min\n",
      "[Parallel(n_jobs=10)]: Done 12780 tasks      | elapsed: 30.9min\n",
      "[Parallel(n_jobs=10)]: Done 14430 tasks      | elapsed: 37.5min\n",
      "[Parallel(n_jobs=10)]: Done 16180 tasks      | elapsed: 41.0min\n",
      "[Parallel(n_jobs=10)]: Done 18030 tasks      | elapsed: 47.1min\n",
      "[Parallel(n_jobs=10)]: Done 19980 tasks      | elapsed: 51.0min\n",
      "[Parallel(n_jobs=10)]: Done 22030 tasks      | elapsed: 57.6min\n",
      "[Parallel(n_jobs=10)]: Done 24180 tasks      | elapsed: 62.9min\n",
      "[Parallel(n_jobs=10)]: Done 26430 tasks      | elapsed: 68.2min\n",
      "[Parallel(n_jobs=10)]: Done 28780 tasks      | elapsed: 74.2min\n",
      "[Parallel(n_jobs=10)]: Done 31230 tasks      | elapsed: 79.4min\n",
      "[Parallel(n_jobs=10)]: Done 33780 tasks      | elapsed: 86.7min\n",
      "[Parallel(n_jobs=10)]: Done 36430 tasks      | elapsed: 95.4min\n",
      "[Parallel(n_jobs=10)]: Done 39180 tasks      | elapsed: 103.9min\n",
      "[Parallel(n_jobs=10)]: Done 42030 tasks      | elapsed: 108.8min\n",
      "[Parallel(n_jobs=10)]: Done 44980 tasks      | elapsed: 114.3min\n",
      "[Parallel(n_jobs=10)]: Done 48030 tasks      | elapsed: 121.0min\n",
      "[Parallel(n_jobs=10)]: Done 51180 tasks      | elapsed: 129.4min\n",
      "[Parallel(n_jobs=10)]: Done 54430 tasks      | elapsed: 137.2min\n",
      "[Parallel(n_jobs=10)]: Done 57780 tasks      | elapsed: 145.0min\n",
      "[Parallel(n_jobs=10)]: Done 61230 tasks      | elapsed: 152.2min\n",
      "[Parallel(n_jobs=10)]: Done 64780 tasks      | elapsed: 161.4min\n",
      "[Parallel(n_jobs=10)]: Done 68430 tasks      | elapsed: 171.3min\n",
      "[Parallel(n_jobs=10)]: Done 72180 tasks      | elapsed: 180.8min\n",
      "[Parallel(n_jobs=10)]: Done 76030 tasks      | elapsed: 191.2min\n",
      "[Parallel(n_jobs=10)]: Done 79980 tasks      | elapsed: 200.3min\n",
      "[Parallel(n_jobs=10)]: Done 84030 tasks      | elapsed: 211.0min\n",
      "[Parallel(n_jobs=10)]: Done 88180 tasks      | elapsed: 221.5min\n",
      "[Parallel(n_jobs=10)]: Done 92430 tasks      | elapsed: 233.9min\n",
      "[Parallel(n_jobs=10)]: Done 96780 tasks      | elapsed: 246.8min\n",
      "[Parallel(n_jobs=10)]: Done 101230 tasks      | elapsed: 263.7min\n",
      "[Parallel(n_jobs=10)]: Done 105780 tasks      | elapsed: 279.1min\n",
      "[Parallel(n_jobs=10)]: Done 110430 tasks      | elapsed: 294.7min\n",
      "[Parallel(n_jobs=10)]: Done 115180 tasks      | elapsed: 308.3min\n",
      "[Parallel(n_jobs=10)]: Done 120030 tasks      | elapsed: 322.0min\n",
      "[Parallel(n_jobs=10)]: Done 124980 tasks      | elapsed: 335.9min\n",
      "[Parallel(n_jobs=10)]: Done 130030 tasks      | elapsed: 348.2min\n",
      "[Parallel(n_jobs=10)]: Done 135180 tasks      | elapsed: 359.4min\n",
      "[Parallel(n_jobs=10)]: Done 140430 tasks      | elapsed: 372.1min\n",
      "[Parallel(n_jobs=10)]: Done 145780 tasks      | elapsed: 385.0min\n",
      "[Parallel(n_jobs=10)]: Done 151200 out of 151200 | elapsed: 399.7min finished\n"
     ]
    },
    {
     "name": "stdout",
     "output_type": "stream",
     "text": [
      "{'gamma': 0.2, 'learning_rate': 0.5, 'max_depth': 9, 'min_child_weight': 1, 'n_estimators': 30}\n",
      "0.9069767441860466\n"
     ]
    }
   ],
   "source": [
    "estimator = XGBClassifier(objective= 'binary:logistic', nthread=4, seed=1)\n",
    "\n",
    "parameters = {\n",
    "    'max_depth': range (2, 10, 1),\n",
    "    'n_estimators': range(10, 60, 10),\n",
    "    'learning_rate': [0.5, 0.4, 0.3, 0.2, 0.1, 0.01, 0.05],\n",
    "    'gamma': [0,0.1,0.2,0.3,0.4,0.5],\n",
    "    'min_child_weight':range(1,10,1)\n",
    "}\n",
    "\n",
    "grid_search = GridSearchCV(estimator=estimator, param_grid=parameters, scoring = 'recall', n_jobs = 10, cv = 10, verbose=True)\n",
    "\n",
    "grid_search.fit(X_train, Y_train)\n",
    "\n",
    "best_parameters = grid_search.best_params_\n",
    "print(best_parameters)\n",
    "#\n",
    "best_result = grid_search.best_score_ # Mean cross-validated score of the best_estimator\n",
    "print(best_result)"
   ]
  },
  {
   "cell_type": "markdown",
   "metadata": {},
   "source": [
    "# Comparing the predictive performance of each classifier on the test set"
   ]
  },
  {
   "cell_type": "markdown",
   "metadata": {},
   "source": [
    "# Random Forest"
   ]
  },
  {
   "cell_type": "code",
   "execution_count": 14,
   "metadata": {},
   "outputs": [
    {
     "name": "stdout",
     "output_type": "stream",
     "text": [
      "OverTime                             0.096150\n",
      "Age                                  0.053809\n",
      "MonthlyIncome                        0.049689\n",
      "TotalWorkingYears                    0.048438\n",
      "JobSatisfaction                      0.046840\n",
      "YearsAtCompany                       0.042895\n",
      "YearsWithCurrManager                 0.038555\n",
      "StockOptionLevel                     0.035718\n",
      "YearsInCurrentRole                   0.034361\n",
      "YearsSinceLastPromotion              0.032615\n",
      "EnvironmentSatisfaction              0.032524\n",
      "JobLevel                             0.032478\n",
      "NumCompaniesWorked                   0.032333\n",
      "DistanceFromHome                     0.031973\n",
      "Education                            0.031026\n",
      "PercentSalaryHike                    0.027750\n",
      "TrainingTimesLastYear                0.026925\n",
      "WorkLifeBalance                      0.026455\n",
      "JobInvolvement                       0.025896\n",
      "MaritalStatus_Single                 0.025069\n",
      "MaritalStatus_Married                0.021779\n",
      "BusinessTravel_Travel_Frequently     0.020082\n",
      "MaritalStatus_Divorced               0.017766\n",
      "Department_Research & Development    0.014302\n",
      "JobRole_Sales Executive              0.013555\n",
      "EducationField_Life Sciences         0.012584\n",
      "Gender_Female                        0.011705\n",
      "BusinessTravel_Travel_Rarely         0.011495\n",
      "EducationField_Technical Degree      0.010875\n",
      "Gender_Male                          0.010794\n",
      "JobRole_Research Scientist           0.010581\n",
      "EducationField_Medical               0.009862\n",
      "Department_Sales                     0.008922\n",
      "BusinessTravel_Non-Travel            0.008447\n",
      "JobRole_Laboratory Technician        0.007431\n",
      "JobRole_Sales Representative         0.006127\n",
      "PerformanceRating                    0.005925\n",
      "JobRole_Manufacturing Director       0.004691\n",
      "EducationField_Marketing             0.004606\n",
      "JobRole_Healthcare Representative    0.004224\n",
      "JobRole_Manager                      0.003285\n",
      "EducationField_Other                 0.003103\n",
      "JobRole_Human Resources              0.002177\n",
      "JobRole_Research Director            0.002025\n",
      "Department_Human Resources           0.001671\n",
      "EducationField_Human Resources       0.000490\n",
      "dtype: float64\n",
      "Classification report: \n",
      "               precision    recall  f1-score   support\n",
      "\n",
      "           0       0.88      0.97      0.92       374\n",
      "           1       0.61      0.25      0.36        67\n",
      "\n",
      "    accuracy                           0.86       441\n",
      "   macro avg       0.74      0.61      0.64       441\n",
      "weighted avg       0.84      0.86      0.84       441\n",
      "\n"
     ]
    },
    {
     "data": {
      "image/png": "[encoded data removed]",
      "text/plain": [
       "<Figure size 576x432 with 2 Axes>"
      ]
     },
     "metadata": {
      "needs_background": "light"
     },
     "output_type": "display_data"
    },
    {
     "name": "stdout",
     "output_type": "stream",
     "text": [
      "Confusion matrix: \n",
      " [[363  11]\n",
      " [ 50  17]]\n",
      "TP:  17\n",
      "TN:  363\n",
      "FP:  11\n",
      "FN:  50\n"
     ]
    }
   ],
   "source": [
    "# Building random forest using the tuned parameter\n",
    "rfc = RandomForestClassifier(n_estimators=50, criterion='entropy', max_features='auto', random_state=1)\n",
    "rfc.fit(X_train,Y_train)\n",
    "featimp = pd.Series(rfc.feature_importances_, index=list(X)).sort_values(ascending=False)\n",
    "print(featimp)\n",
    "\n",
    "Y_pred = rfc.predict(X_test)\n",
    "print('Classification report: \\n', metrics.classification_report(Y_test, Y_pred))\n",
    "\n",
    "conf_mat = metrics.confusion_matrix(Y_test, Y_pred)\n",
    "plt.figure(figsize=(8,6))\n",
    "sns.heatmap(conf_mat,annot=True)\n",
    "plt.title(\"Confusion_matrix\")\n",
    "plt.xlabel(\"Predicted Class\")\n",
    "plt.ylabel(\"Actual class\")\n",
    "plt.show()\n",
    "print('Confusion matrix: \\n', conf_mat)\n",
    "print('TP: ', conf_mat[1,1])\n",
    "print('TN: ', conf_mat[0,0])\n",
    "print('FP: ', conf_mat[0,1])\n",
    "print('FN: ', conf_mat[1,0])"
   ]
  },
  {
   "cell_type": "markdown",
   "metadata": {},
   "source": [
    "# AdaBoost"
   ]
  },
  {
   "cell_type": "code",
   "execution_count": 16,
   "metadata": {},
   "outputs": [
    {
     "name": "stdout",
     "output_type": "stream",
     "text": [
      "WorkLifeBalance                      0.100000\n",
      "TrainingTimesLastYear                0.085714\n",
      "Education                            0.071429\n",
      "StockOptionLevel                     0.057143\n",
      "JobInvolvement                       0.057143\n",
      "YearsAtCompany                       0.057143\n",
      "MonthlyIncome                        0.057143\n",
      "OverTime                             0.042857\n",
      "EnvironmentSatisfaction              0.042857\n",
      "YearsWithCurrManager                 0.028571\n",
      "YearsSinceLastPromotion              0.028571\n",
      "Age                                  0.028571\n",
      "NumCompaniesWorked                   0.028571\n",
      "JobSatisfaction                      0.028571\n",
      "JobLevel                             0.028571\n",
      "DistanceFromHome                     0.028571\n",
      "PercentSalaryHike                    0.014286\n",
      "TotalWorkingYears                    0.014286\n",
      "BusinessTravel_Travel_Frequently     0.014286\n",
      "YearsInCurrentRole                   0.014286\n",
      "BusinessTravel_Non-Travel            0.014286\n",
      "MaritalStatus_Single                 0.014286\n",
      "JobRole_Laboratory Technician        0.014286\n",
      "MaritalStatus_Divorced               0.014286\n",
      "Department_Sales                     0.014286\n",
      "EducationField_Life Sciences         0.014286\n",
      "EducationField_Medical               0.014286\n",
      "JobRole_Research Scientist           0.014286\n",
      "EducationField_Technical Degree      0.014286\n",
      "Gender_Female                        0.014286\n",
      "Gender_Male                          0.014286\n",
      "JobRole_Research Director            0.014286\n",
      "Department_Human Resources           0.000000\n",
      "JobRole_Sales Representative         0.000000\n",
      "JobRole_Sales Executive              0.000000\n",
      "JobRole_Manufacturing Director       0.000000\n",
      "JobRole_Manager                      0.000000\n",
      "PerformanceRating                    0.000000\n",
      "JobRole_Human Resources              0.000000\n",
      "JobRole_Healthcare Representative    0.000000\n",
      "MaritalStatus_Married                0.000000\n",
      "EducationField_Other                 0.000000\n",
      "EducationField_Marketing             0.000000\n",
      "EducationField_Human Resources       0.000000\n",
      "Department_Research & Development    0.000000\n",
      "BusinessTravel_Travel_Rarely         0.000000\n",
      "dtype: float64\n",
      "Classification report: \n",
      "               precision    recall  f1-score   support\n",
      "\n",
      "           0       0.91      0.92      0.92       374\n",
      "           1       0.53      0.52      0.53        67\n",
      "\n",
      "    accuracy                           0.86       441\n",
      "   macro avg       0.72      0.72      0.72       441\n",
      "weighted avg       0.86      0.86      0.86       441\n",
      "\n"
     ]
    },
    {
     "data": {
      "image/png": "[encoded data removed]",
      "text/plain": [
       "<Figure size 576x432 with 2 Axes>"
      ]
     },
     "metadata": {
      "needs_background": "light"
     },
     "output_type": "display_data"
    },
    {
     "name": "stdout",
     "output_type": "stream",
     "text": [
      "Confusion matrix: \n",
      " [[343  31]\n",
      " [ 32  35]]\n",
      "TP:  35\n",
      "TN:  343\n",
      "FP:  31\n",
      "FN:  32\n"
     ]
    }
   ],
   "source": [
    "abc = AdaBoostClassifier(n_estimators=70, random_state=1)\n",
    "\n",
    "abc.fit(X_train,Y_train)\n",
    "\n",
    "featimp = pd.Series(abc.feature_importances_, index=list(X)).sort_values(ascending=False)\n",
    "print(featimp)\n",
    "\n",
    "Y_pred = abc.predict(X_test)\n",
    "\n",
    "print('Classification report: \\n', metrics.classification_report(Y_test, Y_pred))\n",
    "\n",
    "conf_mat = metrics.confusion_matrix(Y_test, Y_pred)\n",
    "plt.figure(figsize=(8,6))\n",
    "sns.heatmap(conf_mat,annot=True)\n",
    "plt.title(\"Confusion_matrix\")\n",
    "plt.xlabel(\"Predicted Class\")\n",
    "plt.ylabel(\"Actual class\")\n",
    "plt.show()\n",
    "print('Confusion matrix: \\n', conf_mat)\n",
    "print('TP: ', conf_mat[1,1])\n",
    "print('TN: ', conf_mat[0,0])\n",
    "print('FP: ', conf_mat[0,1])\n",
    "print('FN: ', conf_mat[1,0])"
   ]
  },
  {
   "cell_type": "markdown",
   "metadata": {},
   "source": [
    "# Gradient Boosting"
   ]
  },
  {
   "cell_type": "code",
   "execution_count": 18,
   "metadata": {},
   "outputs": [
    {
     "name": "stdout",
     "output_type": "stream",
     "text": [
      "OverTime                             0.289288\n",
      "Age                                  0.070366\n",
      "JobLevel                             0.061367\n",
      "StockOptionLevel                     0.059401\n",
      "WorkLifeBalance                      0.048623\n",
      "MonthlyIncome                        0.044952\n",
      "EnvironmentSatisfaction              0.042312\n",
      "JobRole_Sales Executive              0.042078\n",
      "YearsWithCurrManager                 0.038128\n",
      "NumCompaniesWorked                   0.035665\n",
      "JobSatisfaction                      0.030685\n",
      "JobInvolvement                       0.030532\n",
      "TrainingTimesLastYear                0.018383\n",
      "MaritalStatus_Single                 0.018287\n",
      "JobRole_Research Scientist           0.016991\n",
      "YearsAtCompany                       0.016122\n",
      "EducationField_Technical Degree      0.015384\n",
      "BusinessTravel_Travel_Frequently     0.015223\n",
      "DistanceFromHome                     0.014404\n",
      "Education                            0.010070\n",
      "YearsSinceLastPromotion              0.009050\n",
      "JobRole_Manufacturing Director       0.008072\n",
      "BusinessTravel_Travel_Rarely         0.007502\n",
      "JobRole_Sales Representative         0.007480\n",
      "TotalWorkingYears                    0.006172\n",
      "MaritalStatus_Married                0.005956\n",
      "Gender_Male                          0.005940\n",
      "PercentSalaryHike                    0.005888\n",
      "MaritalStatus_Divorced               0.005603\n",
      "Department_Sales                     0.003844\n",
      "Gender_Female                        0.002683\n",
      "YearsInCurrentRole                   0.002628\n",
      "BusinessTravel_Non-Travel            0.002518\n",
      "EducationField_Medical               0.002079\n",
      "JobRole_Laboratory Technician        0.001445\n",
      "EducationField_Other                 0.001336\n",
      "EducationField_Marketing             0.001215\n",
      "EducationField_Life Sciences         0.000911\n",
      "JobRole_Human Resources              0.000694\n",
      "JobRole_Healthcare Representative    0.000528\n",
      "Department_Research & Development    0.000194\n",
      "JobRole_Research Director            0.000000\n",
      "EducationField_Human Resources       0.000000\n",
      "JobRole_Manager                      0.000000\n",
      "Department_Human Resources           0.000000\n",
      "PerformanceRating                    0.000000\n",
      "dtype: float64\n",
      "Classification report: \n",
      "               precision    recall  f1-score   support\n",
      "\n",
      "           0       0.90      0.93      0.92       374\n",
      "           1       0.53      0.43      0.48        67\n",
      "\n",
      "    accuracy                           0.85       441\n",
      "   macro avg       0.71      0.68      0.70       441\n",
      "weighted avg       0.84      0.85      0.85       441\n",
      "\n"
     ]
    },
    {
     "data": {
      "image/png": "[encoded data removed]",
      "text/plain": [
       "<Figure size 576x432 with 2 Axes>"
      ]
     },
     "metadata": {
      "needs_background": "light"
     },
     "output_type": "display_data"
    },
    {
     "name": "stdout",
     "output_type": "stream",
     "text": [
      "Confusion matrix: \n",
      " [[348  26]\n",
      " [ 38  29]]\n",
      "TP:  29\n",
      "TN:  348\n",
      "FP:  26\n",
      "FN:  38\n"
     ]
    }
   ],
   "source": [
    "gbc = GradientBoostingClassifier(n_estimators= 10, learning_rate=0.5, max_depth=6, max_leaf_nodes=32, random_state=1)\n",
    "\n",
    "gbc.fit(X_train,Y_train)\n",
    "\n",
    "featimp = pd.Series(gbc.feature_importances_, index=list(X)).sort_values(ascending=False)\n",
    "print(featimp)\n",
    "\n",
    "Y_pred = gbc.predict(X_test)\n",
    "\n",
    "print('Classification report: \\n', metrics.classification_report(Y_test, Y_pred))\n",
    "\n",
    "conf_mat = metrics.confusion_matrix(Y_test, Y_pred)\n",
    "plt.figure(figsize=(8,6))\n",
    "sns.heatmap(conf_mat,annot=True)\n",
    "plt.title(\"Confusion_matrix\")\n",
    "plt.xlabel(\"Predicted Class\")\n",
    "plt.ylabel(\"Actual class\")\n",
    "plt.show()\n",
    "print('Confusion matrix: \\n', conf_mat)\n",
    "print('TP: ', conf_mat[1,1])\n",
    "print('TN: ', conf_mat[0,0])\n",
    "print('FP: ', conf_mat[0,1])\n",
    "print('FN: ', conf_mat[1,0])"
   ]
  },
  {
   "cell_type": "markdown",
   "metadata": {},
   "source": [
    "# XGBoost"
   ]
  },
  {
   "cell_type": "code",
   "execution_count": 19,
   "metadata": {},
   "outputs": [
    {
     "name": "stdout",
     "output_type": "stream",
     "text": [
      "OverTime                             0.222686\n",
      "JobLevel                             0.100581\n",
      "JobRole_Sales Executive              0.076165\n",
      "StockOptionLevel                     0.049745\n",
      "MaritalStatus_Single                 0.039291\n",
      "JobRole_Research Scientist           0.038858\n",
      "EducationField_Technical Degree      0.026132\n",
      "JobSatisfaction                      0.025791\n",
      "EducationField_Other                 0.022599\n",
      "BusinessTravel_Travel_Frequently     0.020597\n",
      "BusinessTravel_Travel_Rarely         0.020098\n",
      "NumCompaniesWorked                   0.020057\n",
      "WorkLifeBalance                      0.018658\n",
      "Age                                  0.018425\n",
      "JobRole_Sales Representative         0.018360\n",
      "YearsWithCurrManager                 0.017111\n",
      "YearsSinceLastPromotion              0.017070\n",
      "YearsAtCompany                       0.016328\n",
      "Education                            0.015272\n",
      "MaritalStatus_Divorced               0.014590\n",
      "MaritalStatus_Married                0.014412\n",
      "TrainingTimesLastYear                0.014130\n",
      "JobInvolvement                       0.013440\n",
      "EducationField_Life Sciences         0.013430\n",
      "JobRole_Manufacturing Director       0.012796\n",
      "MonthlyIncome                        0.012101\n",
      "BusinessTravel_Non-Travel            0.011152\n",
      "EducationField_Medical               0.010894\n",
      "EnvironmentSatisfaction              0.010827\n",
      "JobRole_Healthcare Representative    0.009956\n",
      "Department_Sales                     0.009712\n",
      "DistanceFromHome                     0.009648\n",
      "TotalWorkingYears                    0.008772\n",
      "JobRole_Laboratory Technician        0.008403\n",
      "YearsInCurrentRole                   0.008311\n",
      "PercentSalaryHike                    0.008107\n",
      "Department_Research & Development    0.007294\n",
      "Gender_Female                        0.006741\n",
      "EducationField_Marketing             0.005622\n",
      "PerformanceRating                    0.003800\n",
      "JobRole_Manager                      0.002036\n",
      "Gender_Male                          0.000000\n",
      "Department_Human Resources           0.000000\n",
      "JobRole_Research Director            0.000000\n",
      "EducationField_Human Resources       0.000000\n",
      "JobRole_Human Resources              0.000000\n",
      "dtype: float32\n",
      "Classification report: \n",
      "               precision    recall  f1-score   support\n",
      "\n",
      "           0       0.90      0.95      0.92       374\n",
      "           1       0.58      0.42      0.49        67\n",
      "\n",
      "    accuracy                           0.87       441\n",
      "   macro avg       0.74      0.68      0.71       441\n",
      "weighted avg       0.85      0.87      0.86       441\n",
      "\n"
     ]
    },
    {
     "data": {
      "image/png": "[encoded data removed]",
      "text/plain": [
       "<Figure size 576x432 with 2 Axes>"
      ]
     },
     "metadata": {
      "needs_background": "light"
     },
     "output_type": "display_data"
    },
    {
     "name": "stdout",
     "output_type": "stream",
     "text": [
      "Confusion matrix: \n",
      " [[354  20]\n",
      " [ 39  28]]\n",
      "TP:  28\n",
      "TN:  354\n",
      "FP:  20\n",
      "FN:  39\n"
     ]
    }
   ],
   "source": [
    "xgb = XGBClassifier(learning_rate=0.5, n_estimators=30, max_depth=9, min_child_weight=1, gamma=0.2, objective= 'binary:logistic', nthread=4, seed=1)\n",
    "\n",
    "xgb.fit(X_train,Y_train)\n",
    "\n",
    "featimp = pd.Series(xgb.feature_importances_, index=list(X)).sort_values(ascending=False)\n",
    "print(featimp)\n",
    "\n",
    "Y_pred = xgb.predict(X_test)\n",
    "\n",
    "print('Classification report: \\n', metrics.classification_report(Y_test, Y_pred))\n",
    "\n",
    "conf_mat = metrics.confusion_matrix(Y_test, Y_pred)\n",
    "plt.figure(figsize=(8,6))\n",
    "sns.heatmap(conf_mat,annot=True)\n",
    "plt.title(\"Confusion_matrix\")\n",
    "plt.xlabel(\"Predicted Class\")\n",
    "plt.ylabel(\"Actual class\")\n",
    "plt.show()\n",
    "print('Confusion matrix: \\n', conf_mat)\n",
    "print('TP: ', conf_mat[1,1])\n",
    "print('TN: ', conf_mat[0,0])\n",
    "print('FP: ', conf_mat[0,1])\n",
    "print('FN: ', conf_mat[1,0])"
   ]
  },
  {
   "cell_type": "markdown",
   "metadata": {},
   "source": [
    "# Since the AdaBoost classifier had the least number of False Negatives, this model will be saved and deployed"
   ]
  },
  {
   "cell_type": "markdown",
   "metadata": {},
   "source": [
    "# Fitting the best performing model with a reduced number of features - the aim here is to save and deploy a parsimonious model"
   ]
  },
  {
   "cell_type": "code",
   "execution_count": 21,
   "metadata": {},
   "outputs": [
    {
     "name": "stdout",
     "output_type": "stream",
     "text": [
      "Classification report: \n",
      "               precision    recall  f1-score   support\n",
      "\n",
      "           0       0.88      0.80      0.84       374\n",
      "           1       0.27      0.42      0.33        67\n",
      "\n",
      "    accuracy                           0.74       441\n",
      "   macro avg       0.58      0.61      0.58       441\n",
      "weighted avg       0.79      0.74      0.76       441\n",
      "\n"
     ]
    },
    {
     "data": {
      "image/png": "[encoded data removed]",
      "text/plain": [
       "<Figure size 576x432 with 2 Axes>"
      ]
     },
     "metadata": {
      "needs_background": "light"
     },
     "output_type": "display_data"
    },
    {
     "name": "stdout",
     "output_type": "stream",
     "text": [
      "Confusion matrix: \n",
      " [[298  76]\n",
      " [ 39  28]]\n",
      "TP:  28\n",
      "TN:  298\n",
      "FP:  76\n",
      "FN:  39\n"
     ]
    }
   ],
   "source": [
    "#4 features\n",
    "\n",
    "X1 = final_data[['WorkLifeBalance', 'TrainingTimesLastYear', 'Education', 'StockOptionLevel']]\n",
    "\n",
    "feature_scaler = StandardScaler()\n",
    "X1_scaled = feature_scaler.fit_transform(X1)\n",
    "\n",
    "X1_train, X1_test, Y1_train, Y1_test = train_test_split(X1_scaled, Y, test_size = 0.3, random_state = 100)\n",
    "\n",
    "smote = SMOTE(random_state = 101)\n",
    "X1_train,Y1_train = smote.fit_sample(X1_train,Y1_train)\n",
    "\n",
    "\n",
    "abc = AdaBoostClassifier(n_estimators=70, random_state=1)\n",
    "\n",
    "abc.fit(X1_train,Y1_train)\n",
    "\n",
    "Y_pred = abc.predict(X1_test)\n",
    "print('Classification report: \\n', metrics.classification_report(Y1_test, Y_pred))\n",
    "\n",
    "conf_mat = metrics.confusion_matrix(Y1_test, Y_pred)\n",
    "plt.figure(figsize=(8,6))\n",
    "sns.heatmap(conf_mat,annot=True)\n",
    "plt.title(\"Confusion_matrix\")\n",
    "plt.xlabel(\"Predicted Class\")\n",
    "plt.ylabel(\"Actual class\")\n",
    "plt.show()\n",
    "print('Confusion matrix: \\n', conf_mat)\n",
    "print('TP: ', conf_mat[1,1])\n",
    "print('TN: ', conf_mat[0,0])\n",
    "print('FP: ', conf_mat[0,1])\n",
    "print('FN: ', conf_mat[1,0])"
   ]
  },
  {
   "cell_type": "code",
   "execution_count": 22,
   "metadata": {},
   "outputs": [
    {
     "name": "stdout",
     "output_type": "stream",
     "text": [
      "Classification report: \n",
      "               precision    recall  f1-score   support\n",
      "\n",
      "           0       0.89      0.78      0.83       374\n",
      "           1       0.28      0.48      0.35        67\n",
      "\n",
      "    accuracy                           0.73       441\n",
      "   macro avg       0.59      0.63      0.59       441\n",
      "weighted avg       0.80      0.73      0.76       441\n",
      "\n"
     ]
    },
    {
     "data": {
      "image/png": "[encoded data removed]",
      "text/plain": [
       "<Figure size 576x432 with 2 Axes>"
      ]
     },
     "metadata": {
      "needs_background": "light"
     },
     "output_type": "display_data"
    },
    {
     "name": "stdout",
     "output_type": "stream",
     "text": [
      "Confusion matrix: \n",
      " [[291  83]\n",
      " [ 35  32]]\n",
      "TP:  32\n",
      "TN:  291\n",
      "FP:  83\n",
      "FN:  35\n"
     ]
    }
   ],
   "source": [
    "#5 features\n",
    "\n",
    "X1 = final_data[['WorkLifeBalance', 'TrainingTimesLastYear', 'Education', 'StockOptionLevel', 'JobInvolvement']]\n",
    "\n",
    "feature_scaler = StandardScaler()\n",
    "X1_scaled = feature_scaler.fit_transform(X1)\n",
    "\n",
    "X1_train, X1_test, Y1_train, Y1_test = train_test_split(X1_scaled, Y, test_size = 0.3, random_state = 100)\n",
    "\n",
    "smote = SMOTE(random_state = 101)\n",
    "X1_train,Y1_train = smote.fit_sample(X1_train,Y1_train)\n",
    "\n",
    "abc = AdaBoostClassifier(n_estimators=70, random_state=1)\n",
    "\n",
    "abc.fit(X1_train,Y1_train)\n",
    "\n",
    "Y_pred = abc.predict(X1_test)\n",
    "print('Classification report: \\n', metrics.classification_report(Y1_test, Y_pred))\n",
    "\n",
    "conf_mat = metrics.confusion_matrix(Y1_test, Y_pred)\n",
    "plt.figure(figsize=(8,6))\n",
    "sns.heatmap(conf_mat,annot=True)\n",
    "plt.title(\"Confusion_matrix\")\n",
    "plt.xlabel(\"Predicted Class\")\n",
    "plt.ylabel(\"Actual class\")\n",
    "plt.show()\n",
    "print('Confusion matrix: \\n', conf_mat)\n",
    "print('TP: ', conf_mat[1,1])\n",
    "print('TN: ', conf_mat[0,0])\n",
    "print('FP: ', conf_mat[0,1])\n",
    "print('FN: ', conf_mat[1,0])"
   ]
  },
  {
   "cell_type": "code",
   "execution_count": 23,
   "metadata": {},
   "outputs": [
    {
     "name": "stdout",
     "output_type": "stream",
     "text": [
      "Classification report: \n",
      "               precision    recall  f1-score   support\n",
      "\n",
      "           0       0.89      0.83      0.86       374\n",
      "           1       0.32      0.45      0.37        67\n",
      "\n",
      "    accuracy                           0.77       441\n",
      "   macro avg       0.60      0.64      0.61       441\n",
      "weighted avg       0.81      0.77      0.78       441\n",
      "\n"
     ]
    },
    {
     "data": {
      "image/png": "[encoded data removed]",
      "text/plain": [
       "<Figure size 576x432 with 2 Axes>"
      ]
     },
     "metadata": {
      "needs_background": "light"
     },
     "output_type": "display_data"
    },
    {
     "name": "stdout",
     "output_type": "stream",
     "text": [
      "Confusion matrix: \n",
      " [[309  65]\n",
      " [ 37  30]]\n",
      "TP:  30\n",
      "TN:  309\n",
      "FP:  65\n",
      "FN:  37\n"
     ]
    }
   ],
   "source": [
    "#6 features\n",
    "\n",
    "X1 = final_data[['WorkLifeBalance', 'TrainingTimesLastYear', 'Education', 'StockOptionLevel', 'JobInvolvement', 'YearsAtCompany']]\n",
    "\n",
    "feature_scaler = StandardScaler()\n",
    "X1_scaled = feature_scaler.fit_transform(X1)\n",
    "\n",
    "X1_train, X1_test, Y1_train, Y1_test = train_test_split(X1_scaled, Y, test_size = 0.3, random_state = 100)\n",
    "\n",
    "smote = SMOTE(random_state = 101)\n",
    "X1_train,Y1_train = smote.fit_sample(X1_train,Y1_train)\n",
    "\n",
    "abc = AdaBoostClassifier(n_estimators=70, random_state=1)\n",
    "\n",
    "abc.fit(X1_train,Y1_train)\n",
    "\n",
    "Y_pred = abc.predict(X1_test)\n",
    "print('Classification report: \\n', metrics.classification_report(Y1_test, Y_pred))\n",
    "\n",
    "conf_mat = metrics.confusion_matrix(Y1_test, Y_pred)\n",
    "plt.figure(figsize=(8,6))\n",
    "sns.heatmap(conf_mat,annot=True)\n",
    "plt.title(\"Confusion_matrix\")\n",
    "plt.xlabel(\"Predicted Class\")\n",
    "plt.ylabel(\"Actual class\")\n",
    "plt.show()\n",
    "print('Confusion matrix: \\n', conf_mat)\n",
    "print('TP: ', conf_mat[1,1])\n",
    "print('TN: ', conf_mat[0,0])\n",
    "print('FP: ', conf_mat[0,1])\n",
    "print('FN: ', conf_mat[1,0])"
   ]
  },
  {
   "cell_type": "code",
   "execution_count": 24,
   "metadata": {},
   "outputs": [
    {
     "name": "stdout",
     "output_type": "stream",
     "text": [
      "Classification report: \n",
      "               precision    recall  f1-score   support\n",
      "\n",
      "           0       0.89      0.82      0.85       374\n",
      "           1       0.31      0.45      0.36        67\n",
      "\n",
      "    accuracy                           0.76       441\n",
      "   macro avg       0.60      0.63      0.61       441\n",
      "weighted avg       0.80      0.76      0.78       441\n",
      "\n"
     ]
    },
    {
     "data": {
      "image/png": "[encoded data removed]",
      "text/plain": [
       "<Figure size 576x432 with 2 Axes>"
      ]
     },
     "metadata": {
      "needs_background": "light"
     },
     "output_type": "display_data"
    },
    {
     "name": "stdout",
     "output_type": "stream",
     "text": [
      "Confusion matrix: \n",
      " [[306  68]\n",
      " [ 37  30]]\n",
      "TP:  30\n",
      "TN:  306\n",
      "FP:  68\n",
      "FN:  37\n"
     ]
    }
   ],
   "source": [
    "#7 features\n",
    "\n",
    "X1 = final_data[['WorkLifeBalance', 'TrainingTimesLastYear', 'Education', 'StockOptionLevel', 'JobInvolvement', 'YearsAtCompany','MonthlyIncome']]\n",
    "\n",
    "feature_scaler = StandardScaler()\n",
    "X1_scaled = feature_scaler.fit_transform(X1)\n",
    "\n",
    "X1_train, X1_test, Y1_train, Y1_test = train_test_split(X1_scaled, Y, test_size = 0.3, random_state = 100)\n",
    "\n",
    "smote = SMOTE(random_state = 101)\n",
    "X1_train,Y1_train = smote.fit_sample(X1_train,Y1_train)\n",
    "\n",
    "abc = AdaBoostClassifier(n_estimators=70, random_state=1)\n",
    "\n",
    "abc.fit(X1_train,Y1_train)\n",
    "\n",
    "Y_pred = abc.predict(X1_test)\n",
    "print('Classification report: \\n', metrics.classification_report(Y1_test, Y_pred))\n",
    "\n",
    "conf_mat = metrics.confusion_matrix(Y1_test, Y_pred)\n",
    "plt.figure(figsize=(8,6))\n",
    "sns.heatmap(conf_mat,annot=True)\n",
    "plt.title(\"Confusion_matrix\")\n",
    "plt.xlabel(\"Predicted Class\")\n",
    "plt.ylabel(\"Actual class\")\n",
    "plt.show()\n",
    "print('Confusion matrix: \\n', conf_mat)\n",
    "print('TP: ', conf_mat[1,1])\n",
    "print('TN: ', conf_mat[0,0])\n",
    "print('FP: ', conf_mat[0,1])\n",
    "print('FN: ', conf_mat[1,0])"
   ]
  },
  {
   "cell_type": "code",
   "execution_count": 25,
   "metadata": {},
   "outputs": [
    {
     "name": "stdout",
     "output_type": "stream",
     "text": [
      "Classification report: \n",
      "               precision    recall  f1-score   support\n",
      "\n",
      "           0       0.91      0.83      0.87       374\n",
      "           1       0.37      0.55      0.44        67\n",
      "\n",
      "    accuracy                           0.79       441\n",
      "   macro avg       0.64      0.69      0.66       441\n",
      "weighted avg       0.83      0.79      0.81       441\n",
      "\n"
     ]
    },
    {
     "data": {
      "image/png": "[encoded data removed]",
      "text/plain": [
       "<Figure size 576x432 with 2 Axes>"
      ]
     },
     "metadata": {
      "needs_background": "light"
     },
     "output_type": "display_data"
    },
    {
     "name": "stdout",
     "output_type": "stream",
     "text": [
      "Confusion matrix: \n",
      " [[311  63]\n",
      " [ 30  37]]\n",
      "TP:  37\n",
      "TN:  311\n",
      "FP:  63\n",
      "FN:  30\n"
     ]
    }
   ],
   "source": [
    "#8 features\n",
    "\n",
    "X1 = final_data[['WorkLifeBalance', 'TrainingTimesLastYear', 'Education','StockOptionLevel', 'JobInvolvement', 'YearsAtCompany','MonthlyIncome','OverTime']]\n",
    "\n",
    "feature_scaler = StandardScaler()\n",
    "X1_scaled = feature_scaler.fit_transform(X1)\n",
    "\n",
    "X1_train, X1_test, Y1_train, Y1_test = train_test_split(X1_scaled, Y, test_size = 0.3, random_state = 100)\n",
    "\n",
    "smote = SMOTE(random_state = 101)\n",
    "X1_train,Y1_train = smote.fit_sample(X1_train,Y1_train)\n",
    "\n",
    "abc = AdaBoostClassifier(n_estimators=70, random_state=1)\n",
    "\n",
    "abc.fit(X1_train,Y1_train)\n",
    "\n",
    "Y_pred = abc.predict(X1_test)\n",
    "print('Classification report: \\n', metrics.classification_report(Y1_test, Y_pred))\n",
    "\n",
    "conf_mat = metrics.confusion_matrix(Y1_test, Y_pred)\n",
    "plt.figure(figsize=(8,6))\n",
    "sns.heatmap(conf_mat,annot=True)\n",
    "plt.title(\"Confusion_matrix\")\n",
    "plt.xlabel(\"Predicted Class\")\n",
    "plt.ylabel(\"Actual class\")\n",
    "plt.show()\n",
    "print('Confusion matrix: \\n', conf_mat)\n",
    "print('TP: ', conf_mat[1,1])\n",
    "print('TN: ', conf_mat[0,0])\n",
    "print('FP: ', conf_mat[0,1])\n",
    "print('FN: ', conf_mat[1,0])"
   ]
  },
  {
   "cell_type": "code",
   "execution_count": 26,
   "metadata": {},
   "outputs": [
    {
     "name": "stdout",
     "output_type": "stream",
     "text": [
      "Classification report: \n",
      "               precision    recall  f1-score   support\n",
      "\n",
      "           0       0.93      0.87      0.90       374\n",
      "           1       0.47      0.63      0.54        67\n",
      "\n",
      "    accuracy                           0.83       441\n",
      "   macro avg       0.70      0.75      0.72       441\n",
      "weighted avg       0.86      0.83      0.84       441\n",
      "\n"
     ]
    },
    {
     "data": {
      "image/png": "[encoded data removed]",
      "text/plain": [
       "<Figure size 576x432 with 2 Axes>"
      ]
     },
     "metadata": {
      "needs_background": "light"
     },
     "output_type": "display_data"
    },
    {
     "name": "stdout",
     "output_type": "stream",
     "text": [
      "Confusion matrix: \n",
      " [[326  48]\n",
      " [ 25  42]]\n",
      "TP:  42\n",
      "TN:  326\n",
      "FP:  48\n",
      "FN:  25\n"
     ]
    }
   ],
   "source": [
    "#9 features\n",
    "\n",
    "X1 = final_data[['WorkLifeBalance', 'TrainingTimesLastYear', 'Education','StockOptionLevel', 'JobInvolvement', 'YearsAtCompany','MonthlyIncome','OverTime', 'EnvironmentSatisfaction']]\n",
    "\n",
    "feature_scaler = StandardScaler()\n",
    "X1_scaled = feature_scaler.fit_transform(X1)\n",
    "\n",
    "X1_train, X1_test, Y1_train, Y1_test = train_test_split(X1_scaled, Y, test_size = 0.3, random_state = 100)\n",
    "\n",
    "smote = SMOTE(random_state = 101)\n",
    "X1_train,Y1_train = smote.fit_sample(X1_train,Y1_train)\n",
    "\n",
    "abc = AdaBoostClassifier(n_estimators=70, random_state=1)\n",
    "\n",
    "abc.fit(X1_train,Y1_train)\n",
    "\n",
    "Y_pred = abc.predict(X1_test)\n",
    "print('Classification report: \\n', metrics.classification_report(Y1_test, Y_pred))\n",
    "\n",
    "conf_mat = metrics.confusion_matrix(Y1_test, Y_pred)\n",
    "plt.figure(figsize=(8,6))\n",
    "sns.heatmap(conf_mat,annot=True)\n",
    "plt.title(\"Confusion_matrix\")\n",
    "plt.xlabel(\"Predicted Class\")\n",
    "plt.ylabel(\"Actual class\")\n",
    "plt.show()\n",
    "print('Confusion matrix: \\n', conf_mat)\n",
    "print('TP: ', conf_mat[1,1])\n",
    "print('TN: ', conf_mat[0,0])\n",
    "print('FP: ', conf_mat[0,1])\n",
    "print('FN: ', conf_mat[1,0])"
   ]
  },
  {
   "cell_type": "code",
   "execution_count": 27,
   "metadata": {},
   "outputs": [
    {
     "name": "stdout",
     "output_type": "stream",
     "text": [
      "Classification report: \n",
      "               precision    recall  f1-score   support\n",
      "\n",
      "           0       0.92      0.87      0.89       374\n",
      "           1       0.44      0.60      0.51        67\n",
      "\n",
      "    accuracy                           0.83       441\n",
      "   macro avg       0.68      0.73      0.70       441\n",
      "weighted avg       0.85      0.83      0.84       441\n",
      "\n"
     ]
    },
    {
     "data": {
      "image/png": "[encoded data removed]",
      "text/plain": [
       "<Figure size 576x432 with 2 Axes>"
      ]
     },
     "metadata": {
      "needs_background": "light"
     },
     "output_type": "display_data"
    },
    {
     "name": "stdout",
     "output_type": "stream",
     "text": [
      "Confusion matrix: \n",
      " [[324  50]\n",
      " [ 27  40]]\n",
      "TP:  40\n",
      "TN:  324\n",
      "FP:  50\n",
      "FN:  27\n"
     ]
    }
   ],
   "source": [
    "#10 features\n",
    "\n",
    "X1 = final_data[['WorkLifeBalance', 'TrainingTimesLastYear', 'Education','StockOptionLevel', 'JobInvolvement', 'YearsAtCompany','MonthlyIncome','OverTime', 'EnvironmentSatisfaction', 'YearsWithCurrManager']]\n",
    "\n",
    "feature_scaler = StandardScaler()\n",
    "X1_scaled = feature_scaler.fit_transform(X1)\n",
    "\n",
    "X1_train, X1_test, Y1_train, Y1_test = train_test_split(X1_scaled, Y, test_size = 0.3, random_state = 100)\n",
    "\n",
    "smote = SMOTE(random_state = 101)\n",
    "X1_train,Y1_train = smote.fit_sample(X1_train,Y1_train)\n",
    "\n",
    "abc = AdaBoostClassifier(n_estimators=70, random_state=1)\n",
    "\n",
    "abc.fit(X1_train,Y1_train)\n",
    "\n",
    "Y_pred = abc.predict(X1_test)\n",
    "print('Classification report: \\n', metrics.classification_report(Y1_test, Y_pred))\n",
    "\n",
    "conf_mat = metrics.confusion_matrix(Y1_test, Y_pred)\n",
    "plt.figure(figsize=(8,6))\n",
    "sns.heatmap(conf_mat,annot=True)\n",
    "plt.title(\"Confusion_matrix\")\n",
    "plt.xlabel(\"Predicted Class\")\n",
    "plt.ylabel(\"Actual class\")\n",
    "plt.show()\n",
    "print('Confusion matrix: \\n', conf_mat)\n",
    "print('TP: ', conf_mat[1,1])\n",
    "print('TN: ', conf_mat[0,0])\n",
    "print('FP: ', conf_mat[0,1])\n",
    "print('FN: ', conf_mat[1,0])"
   ]
  },
  {
   "cell_type": "code",
   "execution_count": 28,
   "metadata": {},
   "outputs": [
    {
     "name": "stdout",
     "output_type": "stream",
     "text": [
      "Classification report: \n",
      "               precision    recall  f1-score   support\n",
      "\n",
      "           0       0.91      0.89      0.90       374\n",
      "           1       0.45      0.51      0.48        67\n",
      "\n",
      "    accuracy                           0.83       441\n",
      "   macro avg       0.68      0.70      0.69       441\n",
      "weighted avg       0.84      0.83      0.83       441\n",
      "\n"
     ]
    },
    {
     "data": {
      "image/png": "[encoded data removed]",
      "text/plain": [
       "<Figure size 576x432 with 2 Axes>"
      ]
     },
     "metadata": {
      "needs_background": "light"
     },
     "output_type": "display_data"
    },
    {
     "name": "stdout",
     "output_type": "stream",
     "text": [
      "Confusion matrix: \n",
      " [[332  42]\n",
      " [ 33  34]]\n",
      "TP:  34\n",
      "TN:  332\n",
      "FP:  42\n",
      "FN:  33\n"
     ]
    }
   ],
   "source": [
    "#11 features\n",
    "\n",
    "X1 = final_data[['WorkLifeBalance', 'TrainingTimesLastYear', 'Education','StockOptionLevel', 'JobInvolvement', 'YearsAtCompany','MonthlyIncome','OverTime', 'EnvironmentSatisfaction', 'YearsWithCurrManager', 'YearsSinceLastPromotion']]\n",
    "\n",
    "feature_scaler = StandardScaler()\n",
    "X1_scaled = feature_scaler.fit_transform(X1)\n",
    "\n",
    "X1_train, X1_test, Y1_train, Y1_test = train_test_split(X1_scaled, Y, test_size = 0.3, random_state = 100)\n",
    "\n",
    "smote = SMOTE(random_state = 101)\n",
    "X1_train,Y1_train = smote.fit_sample(X1_train,Y1_train)\n",
    "\n",
    "abc = AdaBoostClassifier(n_estimators=70, random_state=1)\n",
    "\n",
    "abc.fit(X1_train,Y1_train)\n",
    "\n",
    "Y_pred = abc.predict(X1_test)\n",
    "print('Classification report: \\n', metrics.classification_report(Y1_test, Y_pred))\n",
    "\n",
    "conf_mat = metrics.confusion_matrix(Y1_test, Y_pred)\n",
    "plt.figure(figsize=(8,6))\n",
    "sns.heatmap(conf_mat,annot=True)\n",
    "plt.title(\"Confusion_matrix\")\n",
    "plt.xlabel(\"Predicted Class\")\n",
    "plt.ylabel(\"Actual class\")\n",
    "plt.show()\n",
    "print('Confusion matrix: \\n', conf_mat)\n",
    "print('TP: ', conf_mat[1,1])\n",
    "print('TN: ', conf_mat[0,0])\n",
    "print('FP: ', conf_mat[0,1])\n",
    "print('FN: ', conf_mat[1,0])"
   ]
  },
  {
   "cell_type": "code",
   "execution_count": 29,
   "metadata": {},
   "outputs": [
    {
     "name": "stdout",
     "output_type": "stream",
     "text": [
      "Classification report: \n",
      "               precision    recall  f1-score   support\n",
      "\n",
      "           0       0.91      0.90      0.91       374\n",
      "           1       0.49      0.51      0.50        67\n",
      "\n",
      "    accuracy                           0.84       441\n",
      "   macro avg       0.70      0.71      0.70       441\n",
      "weighted avg       0.85      0.84      0.84       441\n",
      "\n"
     ]
    },
    {
     "data": {
      "image/png": "[encoded data removed]",
      "text/plain": [
       "<Figure size 576x432 with 2 Axes>"
      ]
     },
     "metadata": {
      "needs_background": "light"
     },
     "output_type": "display_data"
    },
    {
     "name": "stdout",
     "output_type": "stream",
     "text": [
      "Confusion matrix: \n",
      " [[338  36]\n",
      " [ 33  34]]\n",
      "TP:  34\n",
      "TN:  338\n",
      "FP:  36\n",
      "FN:  33\n"
     ]
    }
   ],
   "source": [
    "#12 features\n",
    "\n",
    "X1 = final_data[['WorkLifeBalance', 'TrainingTimesLastYear', 'Education','StockOptionLevel', 'JobInvolvement', 'YearsAtCompany','MonthlyIncome','OverTime', 'EnvironmentSatisfaction', 'YearsWithCurrManager', 'YearsSinceLastPromotion', 'Age']]\n",
    "\n",
    "feature_scaler = StandardScaler()\n",
    "X1_scaled = feature_scaler.fit_transform(X1)\n",
    "\n",
    "X1_train, X1_test, Y1_train, Y1_test = train_test_split(X1_scaled, Y, test_size = 0.3, random_state = 100)\n",
    "\n",
    "smote = SMOTE(random_state = 101)\n",
    "X1_train,Y1_train = smote.fit_sample(X1_train,Y1_train)\n",
    "\n",
    "abc = AdaBoostClassifier(n_estimators=70, random_state=1)\n",
    "\n",
    "abc.fit(X1_train,Y1_train)\n",
    "\n",
    "Y_pred = abc.predict(X1_test)\n",
    "print('Classification report: \\n', metrics.classification_report(Y1_test, Y_pred))\n",
    "\n",
    "conf_mat = metrics.confusion_matrix(Y1_test, Y_pred)\n",
    "plt.figure(figsize=(8,6))\n",
    "sns.heatmap(conf_mat,annot=True)\n",
    "plt.title(\"Confusion_matrix\")\n",
    "plt.xlabel(\"Predicted Class\")\n",
    "plt.ylabel(\"Actual class\")\n",
    "plt.show()\n",
    "print('Confusion matrix: \\n', conf_mat)\n",
    "print('TP: ', conf_mat[1,1])\n",
    "print('TN: ', conf_mat[0,0])\n",
    "print('FP: ', conf_mat[0,1])\n",
    "print('FN: ', conf_mat[1,0])"
   ]
  },
  {
   "cell_type": "code",
   "execution_count": 30,
   "metadata": {},
   "outputs": [
    {
     "name": "stdout",
     "output_type": "stream",
     "text": [
      "Classification report: \n",
      "               precision    recall  f1-score   support\n",
      "\n",
      "           0       0.91      0.90      0.91       374\n",
      "           1       0.48      0.52      0.50        67\n",
      "\n",
      "    accuracy                           0.84       441\n",
      "   macro avg       0.70      0.71      0.70       441\n",
      "weighted avg       0.85      0.84      0.84       441\n",
      "\n"
     ]
    },
    {
     "data": {
      "image/png": "[encoded data removed]",
      "text/plain": [
       "<Figure size 576x432 with 2 Axes>"
      ]
     },
     "metadata": {
      "needs_background": "light"
     },
     "output_type": "display_data"
    },
    {
     "name": "stdout",
     "output_type": "stream",
     "text": [
      "Confusion matrix: \n",
      " [[336  38]\n",
      " [ 32  35]]\n",
      "TP:  35\n",
      "TN:  336\n",
      "FP:  38\n",
      "FN:  32\n"
     ]
    }
   ],
   "source": [
    "#13 features\n",
    "\n",
    "X1 = final_data[['WorkLifeBalance', 'TrainingTimesLastYear', 'Education','StockOptionLevel', 'JobInvolvement', 'YearsAtCompany','MonthlyIncome','OverTime', 'EnvironmentSatisfaction', 'YearsWithCurrManager', 'YearsSinceLastPromotion', 'NumCompaniesWorked', 'Age']]\n",
    "\n",
    "feature_scaler = StandardScaler()\n",
    "X1_scaled = feature_scaler.fit_transform(X1)\n",
    "\n",
    "X1_train, X1_test, Y1_train, Y1_test = train_test_split(X1_scaled, Y, test_size = 0.3, random_state = 100)\n",
    "\n",
    "smote = SMOTE(random_state = 101)\n",
    "X1_train,Y1_train = smote.fit_sample(X1_train,Y1_train)\n",
    "\n",
    "abc = AdaBoostClassifier(n_estimators=70, random_state=1)\n",
    "\n",
    "abc.fit(X1_train,Y1_train)\n",
    "\n",
    "Y_pred = abc.predict(X1_test)\n",
    "print('Classification report: \\n', metrics.classification_report(Y1_test, Y_pred))\n",
    "\n",
    "conf_mat = metrics.confusion_matrix(Y1_test, Y_pred)\n",
    "plt.figure(figsize=(8,6))\n",
    "sns.heatmap(conf_mat,annot=True)\n",
    "plt.title(\"Confusion_matrix\")\n",
    "plt.xlabel(\"Predicted Class\")\n",
    "plt.ylabel(\"Actual class\")\n",
    "plt.show()\n",
    "print('Confusion matrix: \\n', conf_mat)\n",
    "print('TP: ', conf_mat[1,1])\n",
    "print('TN: ', conf_mat[0,0])\n",
    "print('FP: ', conf_mat[0,1])\n",
    "print('FN: ', conf_mat[1,0])"
   ]
  },
  {
   "cell_type": "code",
   "execution_count": 10,
   "metadata": {},
   "outputs": [
    {
     "name": "stdout",
     "output_type": "stream",
     "text": [
      "Classification report: \n",
      "               precision    recall  f1-score   support\n",
      "\n",
      "           0       0.92      0.91      0.91       374\n",
      "           1       0.51      0.55      0.53        67\n",
      "\n",
      "    accuracy                           0.85       441\n",
      "   macro avg       0.72      0.73      0.72       441\n",
      "weighted avg       0.86      0.85      0.85       441\n",
      "\n"
     ]
    },
    {
     "data": {
      "image/png": "[encoded data removed]",
      "text/plain": [
       "<Figure size 576x432 with 2 Axes>"
      ]
     },
     "metadata": {
      "needs_background": "light"
     },
     "output_type": "display_data"
    },
    {
     "name": "stdout",
     "output_type": "stream",
     "text": [
      "Confusion matrix: \n",
      " [[339  35]\n",
      " [ 30  37]]\n",
      "TP:  37\n",
      "TN:  339\n",
      "FP:  35\n",
      "FN:  30\n"
     ]
    }
   ],
   "source": [
    "#14 features\n",
    "\n",
    "X1 = final_data[['WorkLifeBalance', 'TrainingTimesLastYear', 'Education','StockOptionLevel', 'JobInvolvement', 'YearsAtCompany','MonthlyIncome','OverTime', 'EnvironmentSatisfaction', 'YearsWithCurrManager', 'YearsSinceLastPromotion', 'NumCompaniesWorked', 'Age', 'JobSatisfaction']]\n",
    "\n",
    "feature_scaler = StandardScaler()\n",
    "X1_scaled = feature_scaler.fit_transform(X1)\n",
    "\n",
    "X1_train, X1_test, Y1_train, Y1_test = train_test_split(X1_scaled, Y, test_size = 0.3, random_state = 100)\n",
    "\n",
    "smote = SMOTE(random_state = 101)\n",
    "X1_train,Y1_train = smote.fit_sample(X1_train,Y1_train)\n",
    "\n",
    "abc_reduced_features = AdaBoostClassifier(n_estimators=70, random_state=1)\n",
    "\n",
    "abc_reduced_features.fit(X1_train,Y1_train)\n",
    "\n",
    "Y_pred = abc_reduced_features.predict(X1_test)\n",
    "print('Classification report: \\n', metrics.classification_report(Y1_test, Y_pred))\n",
    "\n",
    "conf_mat = metrics.confusion_matrix(Y1_test, Y_pred)\n",
    "plt.figure(figsize=(8,6))\n",
    "sns.heatmap(conf_mat,annot=True)\n",
    "plt.title(\"Confusion_matrix\")\n",
    "plt.xlabel(\"Predicted Class\")\n",
    "plt.ylabel(\"Actual class\")\n",
    "plt.show()\n",
    "print('Confusion matrix: \\n', conf_mat)\n",
    "print('TP: ', conf_mat[1,1])\n",
    "print('TN: ', conf_mat[0,0])\n",
    "print('FP: ', conf_mat[0,1])\n",
    "print('FN: ', conf_mat[1,0])"
   ]
  },
  {
   "cell_type": "code",
   "execution_count": 32,
   "metadata": {},
   "outputs": [
    {
     "name": "stdout",
     "output_type": "stream",
     "text": [
      "Classification report: \n",
      "               precision    recall  f1-score   support\n",
      "\n",
      "           0       0.90      0.89      0.89       374\n",
      "           1       0.41      0.42      0.41        67\n",
      "\n",
      "    accuracy                           0.82       441\n",
      "   macro avg       0.65      0.65      0.65       441\n",
      "weighted avg       0.82      0.82      0.82       441\n",
      "\n"
     ]
    },
    {
     "data": {
      "image/png": "[encoded data removed]",
      "text/plain": [
       "<Figure size 576x432 with 2 Axes>"
      ]
     },
     "metadata": {
      "needs_background": "light"
     },
     "output_type": "display_data"
    },
    {
     "name": "stdout",
     "output_type": "stream",
     "text": [
      "Confusion matrix: \n",
      " [[333  41]\n",
      " [ 39  28]]\n",
      "TP:  28\n",
      "TN:  333\n",
      "FP:  41\n",
      "FN:  39\n"
     ]
    }
   ],
   "source": [
    "#15 features\n",
    "\n",
    "X1 = final_data[['WorkLifeBalance', 'TrainingTimesLastYear', 'Education','StockOptionLevel', 'JobInvolvement', 'YearsAtCompany','MonthlyIncome','OverTime', 'EnvironmentSatisfaction', 'YearsWithCurrManager', 'YearsSinceLastPromotion', 'NumCompaniesWorked', 'Age', 'JobSatisfaction', 'JobLevel']]\n",
    "\n",
    "feature_scaler = StandardScaler()\n",
    "X1_scaled = feature_scaler.fit_transform(X1)\n",
    "\n",
    "X1_train, X1_test, Y1_train, Y1_test = train_test_split(X1_scaled, Y, test_size = 0.3, random_state = 100)\n",
    "\n",
    "smote = SMOTE(random_state = 101)\n",
    "X1_train,Y1_train = smote.fit_sample(X1_train,Y1_train)\n",
    "\n",
    "abc = AdaBoostClassifier(n_estimators=70, random_state=1)\n",
    "\n",
    "abc.fit(X1_train,Y1_train)\n",
    "\n",
    "Y_pred = abc.predict(X1_test)\n",
    "print('Classification report: \\n', metrics.classification_report(Y1_test, Y_pred))\n",
    "\n",
    "conf_mat = metrics.confusion_matrix(Y1_test, Y_pred)\n",
    "plt.figure(figsize=(8,6))\n",
    "sns.heatmap(conf_mat,annot=True)\n",
    "plt.title(\"Confusion_matrix\")\n",
    "plt.xlabel(\"Predicted Class\")\n",
    "plt.ylabel(\"Actual class\")\n",
    "plt.show()\n",
    "print('Confusion matrix: \\n', conf_mat)\n",
    "print('TP: ', conf_mat[1,1])\n",
    "print('TN: ', conf_mat[0,0])\n",
    "print('FP: ', conf_mat[0,1])\n",
    "print('FN: ', conf_mat[1,0])"
   ]
  },
  {
   "cell_type": "markdown",
   "metadata": {},
   "source": [
    "# The code below saves the AdaBoost model with 14 features to a pickle file. This is required to deploy the model"
   ]
  },
  {
   "cell_type": "code",
   "execution_count": 11,
   "metadata": {},
   "outputs": [],
   "source": [
    "import pickle\n",
    "# open a file, where you want to store the data\n",
    "#The wb option stands for write binary\n",
    "\n",
    "file = open('ada_boost_classification_model.pkl', 'wb')\n",
    "\n",
    "# dump information to that file\n",
    "pickle.dump(abc_reduced_features, file)"
   ]
  },
  {
   "cell_type": "code",
   "execution_count": null,
   "metadata": {},
   "outputs": [],
   "source": []
  }
 ],
 "metadata": {
  "kernelspec": {
   "display_name": "Python 3",
   "language": "python",
   "name": "python3"
  },
  "language_info": {
   "codemirror_mode": {
    "name": "ipython",
    "version": 3
   },
   "file_extension": ".py",
   "mimetype": "text/x-python",
   "name": "python",
   "nbconvert_exporter": "python",
   "pygments_lexer": "ipython3",
   "version": "3.7.9"
  }
 },
 "nbformat": 4,
 "nbformat_minor": 4
}
